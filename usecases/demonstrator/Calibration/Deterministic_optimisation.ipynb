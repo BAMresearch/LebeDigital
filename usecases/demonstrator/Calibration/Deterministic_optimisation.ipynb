{
 "cells": [
  {
   "cell_type": "code",
   "execution_count": null,
   "metadata": {
    "collapsed": true
   },
   "outputs": [],
   "source": [
    "# 09.09.2022\n",
    "# FInd the value of the hydration model coefficents by performing scipy optimise"
   ]
  },
  {
   "cell_type": "code",
   "execution_count": null,
   "outputs": [],
   "source": [
    "%matplotlib inline\n",
    "import numpy as np\n",
    "import matplotlib.pyplot as plt\n",
    "plt.style.use({'figure.facecolor':'white'})\n",
    "import matplotlib as mpl\n",
    "from matplotlib.patches import Rectangle\n",
    "from matplotlib import rc\n",
    "from scipy.optimize import minimize\n",
    "from matplotlib import cm, ticker\n",
    "mpl.rcParams['font.size'] = 16\n",
    "mpl.rcParams['legend.fontsize'] = 'large'\n",
    "mpl.rcParams['figure.titlesize'] = 'medium'\n",
    "\n",
    "#mpl.rcParams['font.family'] = ['times new roman'] # default is sans-serif\n",
    "#rc('font', **{'family': 'serif', 'serif': ['Computer Modern']})\n",
    "rc('text', usetex=False)\n",
    "mpl.rcParams['text.latex.preamble'] = [r'\\usepackage{amsmath,bm}'] #for \\text command\n",
    "\n",
    "import scipy.stats as ss\n",
    "from tqdm import tqdm\n",
    "from datetime import datetime\n",
    "now = datetime.now()\n",
    "date = now.strftime(\"%d_%m_%Y_%H:%M\")\n",
    "import torch as th\n",
    "import seaborn as sns\n",
    "from mpl_toolkits import mplot3d\n",
    "import fenics_concrete\n",
    "import yaml\n",
    "# local imports\n",
    "\n",
    "\n",
    "# Initialize random number generator\n",
    "RANDOM_SEED = 420\n",
    "rng = np.random.default_rng(RANDOM_SEED)\n",
    "%load_ext autoreload\n",
    "%autoreload 2\n",
    "seed = 420"
   ],
   "metadata": {
    "collapsed": false,
    "pycharm": {
     "name": "#%%\n"
    }
   }
  },
  {
   "cell_type": "code",
   "execution_count": null,
   "outputs": [],
   "source": [
    "data_file = '../artificial_hydration_data/artificial_hydration_data.yaml'\n",
    "#Example 1:\n",
    "# read file and access artificial data:\n",
    "with open(data_file) as file:\n",
    "    hydration_data = yaml.safe_load(file)\n",
    "\n",
    "# data is given in dictionary\n",
    "# data[mix ratio: 0/.2/0.5/.8/1][temperature: 20/40/60][time/heat]\n",
    "# it is assumed that this is hydration data for two distinct mixes\n",
    "# mix 1: mix ration = 0 and mix 2: mix ratio = 1\n",
    "# there are 3 intermediate mixes with 20/80, 50/50 and 80/20 ratio between mix 1 and 2\n",
    "# for each of the 5 mixes there are 3 temperature measurements, each at 20, 40 and 60 degree\n",
    "# for each temperature there is a list with the time and the heat values\n",
    "\n",
    "# loop over all data, print lists\n",
    "for mix_r in hydration_data:\n",
    "    for temp in hydration_data[mix_r]:\n",
    "        print(mix_r,temp,'time:',hydration_data[mix_r][temp]['time'])\n",
    "        print(mix_r,temp,'heat:',hydration_data[mix_r][temp]['heat'])"
   ],
   "metadata": {
    "collapsed": false,
    "pycharm": {
     "name": "#%%\n"
    }
   }
  },
  {
   "cell_type": "code",
   "execution_count": null,
   "outputs": [],
   "source": [
    "def forward_model(inp_latents: list, inp_obs: dict) -> list:\n",
    "    parameter = fenics_concrete.Parameters()  # using the current default values\n",
    "\n",
    "    # -- latents -----\n",
    "    # parameter['B1'] = 2.916E-4  # in 1/s (le 0, < 0.1)\n",
    "    # parameter['B2'] = 0.0024229  # - (le 0, smaller 1)\n",
    "    # parameter['eta'] = 5.554  # something about diffusion (should be larger 0)\n",
    "    # parameter['T_ref'] = 25  # reference temperature in degree celsius\n",
    "    # parameter['Q_pot'] = 500e3 # potential heat per weight of binder in J/kg\n",
    "\n",
    "    parameter['B1'] = inp_latents[0]  # in 1/s (le 0, < 0.1)\n",
    "    parameter['B2'] = inp_latents[1] # - (le 0, smaller 1)\n",
    "    parameter['eta'] = inp_latents[2]  # something about diffusion (should be larger 0)\n",
    "    parameter['Q_pot'] = inp_latents[3] # potential heat per weight of binder in J/kg\n",
    "\n",
    "    # -- observed inputs\n",
    "    parameter['igc'] = 8.3145  # ideal gas constant in [J/K/mol], CONSTANT!!!\n",
    "    parameter['zero_C'] = 273.15  # in Kelvin, CONSTANT!!!\n",
    "    parameter['E_act'] = 47002  # activation energy in Jmol^-1 (no relevant limits) (Depends only on simulated temp, if that is not change no need to infer E_act)\n",
    "    parameter['alpha_max'] = 0.875  # also possible to approximate based on equation with w/c (larger 0 and max 1)\n",
    "    parameter['T_ref'] = 25  # reference temperature in degree celsius\n",
    "\n",
    "    # this is the minimal time step used in the simulation\n",
    "    # using a larger value will increase the speed but decrease the accuracy\n",
    "    dt = 300 # value in seconds\n",
    "\n",
    "    # this is the simulated temperature, needs to be adjusted depending on the temperature of the experimental data\n",
    "    T = inp_obs['T_rxn'] # can be 20,40,60 as pert the exp values\n",
    "    # this is the list of measured time data as given by the experiments\n",
    "    #time_list = [0,5000,10000,20000,100000]\n",
    "    time_list = inp_obs['time_list']\n",
    "\n",
    "    # initiate material problem, for this the \"fenics_concrete\" conda package needs to be installed\n",
    "    # use: 'mamba install -c etamsen fenics_concrete\"\n",
    "    problem = fenics_concrete.ConcreteThermoMechanical()\n",
    "\n",
    "    # get the hydration function\n",
    "    # this might change in the future to make it more easily accessible but for now it should work like this\n",
    "    hydration_fkt = problem.get_heat_of_hydration_ftk()\n",
    "    # the results are a heat list and a degree of hydration list, which you can ignore for now\n",
    "    heat_list, doh_list= hydration_fkt(T, time_list, dt, parameter)\n",
    "\n",
    "    return heat_list"
   ],
   "metadata": {
    "collapsed": false,
    "pycharm": {
     "name": "#%%\n"
    }
   }
  }
 ],
 "metadata": {
  "kernelspec": {
   "display_name": "Python 3",
   "language": "python",
   "name": "python3"
  },
  "language_info": {
   "codemirror_mode": {
    "name": "ipython",
    "version": 2
   },
   "file_extension": ".py",
   "mimetype": "text/x-python",
   "name": "python",
   "nbconvert_exporter": "python",
   "pygments_lexer": "ipython2",
   "version": "2.7.6"
  }
 },
 "nbformat": 4,
 "nbformat_minor": 0
}