{
 "cells": [
  {
   "cell_type": "code",
   "execution_count": 130,
   "metadata": {},
   "outputs": [],
   "source": [
    "from math import isnan\n",
    "from pathlib import Path\n",
    "from typing import Union\n",
    "import json\n",
    "import yaml\n",
    "from dateutil.parser import parse\n",
    "from typing import List"
   ]
  },
  {
   "cell_type": "code",
   "execution_count": 131,
   "metadata": {},
   "outputs": [],
   "source": [
    "mixture_metadata_file_path = \"2014_12_10 Wolf.yaml\"\n",
    "mixture_metadata_file_path2 = \"2020_11_10 Klimek Geschossdecke_Quarzkies_290 l.yaml\"\n",
    "_INGREDIENT_CODE = \"EMODUL_INGREDIENT\"\n",
    "default_props = {\"operator_date\": [\"TIMESTAMP\", \"operator_date\", \"operator_date\"],\n",
    "                 \"tester_name\": [\"VARCHAR\", \"tester_name\", \"tester_name\"],\n",
    "                 \"$name\": [\"VARCHAR\", \"Name\", \"Name\"]}\n",
    "_INGREDIENT_KEYWORDS = [\"cement\", \"water_total\", \"addition\", \"admixture\", \"aggregate\"]\n",
    "\n",
    "def _read_metadata_mixture_ingredients(yaml_path: Union[str, Path], mixture_code: str, ingredient_code: str, default_props: dict, keywords: list) -> dict:\n",
    "\n",
    "    default_keys = default_props.keys()\n",
    "\n",
    "    with open(yaml_path, 'r') as file:\n",
    "        loaded = dict(yaml.safe_load(file))\n",
    "\n",
    "    data = {keyword: {} for keyword in keywords}\n",
    "    data['mixture'] = {}\n",
    "\n",
    "    for key, val in loaded.items():\n",
    "        if val is None:\n",
    "            continue\n",
    "        for keyword in keywords:\n",
    "            if keyword in key:\n",
    "                data[keyword][f\"{key}\".lower()] = val\n",
    "                break\n",
    "        else:\n",
    "            if key in default_keys:\n",
    "                if key.lower() == 'operator_date':\n",
    "                    # convert german date to openBIS date format YYYY-MM-DD\n",
    "                    data['mixture'][key] = parse(val).strftime('%Y-%m-%d')\n",
    "                else:\n",
    "                    data['mixture'][key] = val\n",
    "            else:\n",
    "                data['mixture'][f\"{key}\".lower()] = val\n",
    "\n",
    "    # Converting NaN values to 0.0 as openBIS does not accept NaNs\n",
    "    for id_dict, kw_dict in data.items():\n",
    "        for key, val in kw_dict.items():\n",
    "            if isinstance(val, float) and isnan(val):\n",
    "                data[id_dict][key] = 0.0\n",
    "                \n",
    "    data['mixture']['water_cement_ratio'] = data['cement'].pop('water_cement_ratio')\n",
    "\n",
    "    return data\n",
    "\n",
    "def _split_addition(addition_combined_dict: dict, ingredient_code: str) -> List[dict]:\n",
    "    \"\"\"\n",
    "    Recieves a dict where additions 1..x are contained and returns a list of their split dicts\n",
    "    \"\"\"\n",
    "    current_addition_counter = 1\n",
    "    current_addition = \"addition\" + str(current_addition_counter)\n",
    "\n",
    "    split_dict = {}\n",
    "\n",
    "    while f\"{ingredient_code.lower()}.{current_addition}--bulkdensity\" in addition_combined_dict:\n",
    "        filtered_dict = {key: val for key, val in addition_combined_dict.items() if current_addition in key}\n",
    "        split_dict[current_addition] = filtered_dict\n",
    "        addition_combined_dict = {key: val for key, val in addition_combined_dict.items() if key not in filtered_dict}\n",
    "        current_addition_counter += 1\n",
    "        current_addition = \"addition\" + str(current_addition_counter)\n",
    "\n",
    "    return split_dict"
   ]
  },
  {
   "cell_type": "code",
   "execution_count": 132,
   "metadata": {},
   "outputs": [],
   "source": [
    "mixture_sample_code = \"EXPERIMENTAL_STEP_EMODUL_MIX\"\n",
    "mixture_ingredient_dict = _read_metadata_mixture_ingredients(\n",
    "    mixture_metadata_file_path, mixture_sample_code, _INGREDIENT_CODE, default_props, _INGREDIENT_KEYWORDS)\n",
    "\n",
    "# Splitting read dictionary into mixture dictionaty and ingredient dictionary\n",
    "mixture_metadata = mixture_ingredient_dict.pop('mixture')\n",
    "mixture_metadata['ingredients'] = {}\n",
    "\n",
    "# Splitting addition into addition1, addition2 ... to upload separate ingreeients\n",
    "additions_dict = _split_addition(mixture_ingredient_dict.pop('addition'), _INGREDIENT_CODE)\n",
    "ingredient_metadata = mixture_ingredient_dict | additions_dict"
   ]
  },
  {
   "cell_type": "code",
   "execution_count": 133,
   "metadata": {},
   "outputs": [],
   "source": [
    "new = {}\n",
    "for ing, ing_dict in ingredient_metadata.items():\n",
    "    new[f\"{ing}_identifier\"] = {key.split(\"--\")[-1]: val for key, val in ing_dict.items()}\n",
    "    new[f\"{ing}_identifier\"][\"type\"] = ing\n",
    "\n",
    "ingredient_metadata=new\n",
    "\n",
    "\n",
    "for ing, ing_dict in ingredient_metadata.items():\n",
    "    for prop, prop_val in ing_dict.items():\n",
    "        mixture_metadata['ingredients'].setdefault(ing, {})\n",
    "        if 'quantityinmix' in prop or 'volume' in prop:\n",
    "            mixture_metadata['ingredients'][ing][prop] = prop_val\n",
    "            \n",
    "ingredient_metadata = {ing: {prop: prop_val for prop, prop_val in ing_val.items() if not (prop == \"volume\" or prop == \"quantityinmix\")} for ing, ing_val in ingredient_metadata.items()}"
   ]
  },
  {
   "cell_type": "code",
   "execution_count": 134,
   "metadata": {},
   "outputs": [
    {
     "data": {
      "text/plain": [
       "{'cement_identifier': {'bulkdensity': 3.1,\n",
       "  'annotation': 'CEM I 32.5 R Zementwerk Berlin',\n",
       "  'type': 'cement'},\n",
       " 'water_total_identifier': {'bulkdensity': 1.0, 'type': 'water_total'},\n",
       " 'admixture_identifier': {'bulkdensity': 1.14,\n",
       "  'annotation': 'FM 21/BV 21',\n",
       "  'type': 'admixture'},\n",
       " 'aggregate_identifier': {'bulkdensity': 0.0, 'type': 'aggregate'}}"
      ]
     },
     "execution_count": 134,
     "metadata": {},
     "output_type": "execute_result"
    }
   ],
   "source": [
    "ingredient_metadata"
   ]
  },
  {
   "cell_type": "code",
   "execution_count": 135,
   "metadata": {},
   "outputs": [
    {
     "data": {
      "text/plain": [
       "{'operator_date': '2014-12-10',\n",
       " 'tester_name': 'Haamkens',\n",
       " 'specimen_name': '8.2 (Wolf)',\n",
       " 'water_effective--quantityinmix': 0.0,\n",
       " 'water_effective--bulkdensity': 0.0,\n",
       " 'water_effective--volume': 0.0,\n",
       " 'air_content--quantityinmix': 0.0,\n",
       " 'air_content--bulkdensity': 0.0,\n",
       " 'air_content--volume': 20.0,\n",
       " 'water_cement_ratio': 0.5454545454545454,\n",
       " 'ingredients': {'cement_identifier': {'quantityinmix': 330.0,\n",
       "   'volume': 106.5},\n",
       "  'water_total_identifier': {'quantityinmix': 180.0, 'volume': 180.0},\n",
       "  'admixture_identifier': {'quantityinmix': 4.95, 'volume': 4.3},\n",
       "  'aggregate_identifier': {'quantityinmix': 1720.0, 'volume': 656.2}}}"
      ]
     },
     "execution_count": 135,
     "metadata": {},
     "output_type": "execute_result"
    }
   ],
   "source": [
    "mixture_metadata"
   ]
  },
  {
   "cell_type": "code",
   "execution_count": 136,
   "metadata": {},
   "outputs": [],
   "source": [
    "with open(\"mixture.json\", \"w\") as file:\n",
    "    json.dump(mixture_metadata, file, indent=4, ensure_ascii=False)\n",
    "    \n",
    "with open(\"ingredients.json\", \"w\") as file:\n",
    "    json.dump(ingredient_metadata, file, indent=4, ensure_ascii=False)"
   ]
  }
 ],
 "metadata": {
  "kernelspec": {
   "display_name": "lebedigital",
   "language": "python",
   "name": "python3"
  },
  "language_info": {
   "codemirror_mode": {
    "name": "ipython",
    "version": 3
   },
   "file_extension": ".py",
   "mimetype": "text/x-python",
   "name": "python",
   "nbconvert_exporter": "python",
   "pygments_lexer": "ipython3",
   "version": "3.9.7"
  },
  "orig_nbformat": 4,
  "vscode": {
   "interpreter": {
    "hash": "61638783d09f6ebb4e22bdccda403b033a5ef625235baa4d8274988b8ea2b794"
   }
  }
 },
 "nbformat": 4,
 "nbformat_minor": 2
}
